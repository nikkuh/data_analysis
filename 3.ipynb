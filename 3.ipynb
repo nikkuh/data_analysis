{
 "cells": [
  {
   "cell_type": "code",
   "execution_count": 1,
   "id": "bc68a8f4",
   "metadata": {},
   "outputs": [],
   "source": [
    "import numpy as np\n",
    "from matplotlib import pyplot as plt\n",
    "%matplotlib inline"
   ]
  },
  {
   "cell_type": "markdown",
   "id": "8ad7173e",
   "metadata": {},
   "source": [
    "#### 1. Измените функцию `calc_logloss` так, чтобы нули по возможности не попадали в `np.log` (как вариант - использовать `np.clip` или `np.where`).  "
   ]
  },
  {
   "cell_type": "code",
   "execution_count": 2,
   "id": "d501f53c",
   "metadata": {},
   "outputs": [],
   "source": [
    "def calc_logloss(y, p):\n",
    "    p = np.clip(p, 1e-5, 1 - 1e-5)\n",
    "    err = np.mean(- y * np.log(p) - (1.0 - y) * np.log(1.0 - p))\n",
    "    return err"
   ]
  },
  {
   "cell_type": "code",
   "execution_count": null,
   "id": "ad885c74",
   "metadata": {},
   "outputs": [],
   "source": []
  },
  {
   "cell_type": "code",
   "execution_count": 3,
   "id": "825045b3",
   "metadata": {},
   "outputs": [],
   "source": [
    "def sigmoid(z):\n",
    "    return 1 / (1 + np.exp(-z))"
   ]
  },
  {
   "cell_type": "code",
   "execution_count": 4,
   "id": "0dfac222",
   "metadata": {},
   "outputs": [],
   "source": [
    "def standardization(X):\n",
    "    S = (X - X.mean(axis=0)) / X.std(ddof=1, axis=0)\n",
    "    return S"
   ]
  },
  {
   "cell_type": "code",
   "execution_count": 5,
   "id": "c702497b",
   "metadata": {},
   "outputs": [],
   "source": [
    "X = np.array([[1, 1, 1, 1, 1, 1, 1, 1, 1, 1],\n",
    "              [1, 1, 2, 1, 3, 0, 5, 10, 1, 2],  # стаж репетитора\n",
    "              [500, 700, 750, 600, 1450,        # средняя стоимость занятия\n",
    "               800, 1500, 2000, 450, 1000],\n",
    "              [21, 25, 27, 20, 25, 18, 35, 60, 20, 30]],  # возраст репетитора\n",
    "              dtype = np.float64).T \n",
    "\n",
    "y = np.array([0, 0, 1, 0, 1, 0, 1, 0, 1, 1])"
   ]
  },
  {
   "cell_type": "code",
   "execution_count": 6,
   "id": "f754e634",
   "metadata": {},
   "outputs": [
    {
     "data": {
      "text/plain": [
       "array([[ 1.        , -0.54210474, -0.92932038, -0.57485743],\n",
       "       [ 1.        , -0.54210474, -0.53802759, -0.25099409],\n",
       "       [ 1.        , -0.20328928, -0.44020439, -0.08906242],\n",
       "       [ 1.        , -0.54210474, -0.73367398, -0.65582327],\n",
       "       [ 1.        ,  0.13552619,  0.92932038, -0.25099409],\n",
       "       [ 1.        , -0.88092021, -0.34238119, -0.81775494],\n",
       "       [ 1.        ,  0.81315711,  1.02714357,  0.55866427],\n",
       "       [ 1.        ,  2.50723443,  2.00537555,  2.58281015],\n",
       "       [ 1.        , -0.54210474, -1.02714357, -0.65582327],\n",
       "       [ 1.        , -0.20328928,  0.0489116 ,  0.15383509]])"
      ]
     },
     "execution_count": 6,
     "metadata": {},
     "output_type": "execute_result"
    }
   ],
   "source": [
    "X_st = X.copy()\n",
    "X_st[:, 1:] = standardization(X[:, 1:])\n",
    "X_st"
   ]
  },
  {
   "cell_type": "code",
   "execution_count": null,
   "id": "8595c90d",
   "metadata": {},
   "outputs": [],
   "source": []
  },
  {
   "cell_type": "markdown",
   "id": "06865908",
   "metadata": {},
   "source": [
    "#### 2. На данных из урока изучите влияние гиперпараметров на ошибку алгоритма."
   ]
  },
  {
   "cell_type": "code",
   "execution_count": 7,
   "id": "7714ed4f",
   "metadata": {},
   "outputs": [],
   "source": [
    "def eval_LR_model(X, y, iterations, eta=1e-4):\n",
    "    np.random.seed(66)\n",
    "    w = np.random.randn(X.shape[1])\n",
    "    n = X.shape[0]\n",
    "    for i in range(1, iterations + 1):\n",
    "        z = np.dot(X, w) # log(p/(1-p))\n",
    "        pred = sigmoid(z) # p [0, 1]\n",
    "        err = calc_logloss(y, pred)\n",
    "        w -= eta * (1/n * np.dot((pred - y), X))\n",
    "        if i % (iterations / 10) == 0:\n",
    "            print(i, w, err)\n",
    "    return w"
   ]
  },
  {
   "cell_type": "code",
   "execution_count": 8,
   "id": "2fdcacbc",
   "metadata": {},
   "outputs": [
    {
     "name": "stdout",
     "output_type": "stream",
     "text": [
      "300 [ 1.34030982 -1.0019899  -0.52123324 -0.68507542] 1.2737138773105383\n",
      "600 [ 1.26663347 -0.92150377 -0.42933575 -0.61558661] 1.1897570767279477\n",
      "900 [ 1.19486741 -0.84439278 -0.34115474 -0.54902807] 1.1120533254149838\n",
      "1200 [ 1.12525959 -0.77133094 -0.25731062 -0.48609895] 1.0414399318811265\n",
      "1500 [ 1.0580051  -0.70306513 -0.17846764 -0.42758258] 0.9786503191074895\n",
      "1800 [ 0.99324179 -0.64032906 -0.10525659 -0.37425798] 0.9241547776790007\n",
      "2100 [ 0.93106358 -0.58371735 -0.03816741 -0.32676907] 0.8780092668733698\n",
      "2400 [ 0.87154324 -0.53356341  0.02255083 -0.28549683] 0.8397934351125824\n",
      "2700 [ 0.81474873 -0.48987738  0.07693695 -0.25049245] 0.8086846629314678\n",
      "3000 [ 0.76074374 -0.45236904  0.12529265 -0.22149823] 0.7836322747815148\n"
     ]
    }
   ],
   "source": [
    "w = eval_LR_model(X_st, y, 3000, 1e-3)"
   ]
  },
  {
   "cell_type": "markdown",
   "id": "65c40bc3",
   "metadata": {},
   "source": [
    "#### 3. Создайте функцию `calc_pred_proba`, возвращающую предсказанную вероятность класса \"1\". На вход функции подаются значения признаков Х и веса, которые уже посчитаны функцией `eval_LR_model`."
   ]
  },
  {
   "cell_type": "code",
   "execution_count": 9,
   "id": "c0937150",
   "metadata": {},
   "outputs": [],
   "source": [
    "def calc_pred_proba(X, w):\n",
    "    return sigmoid(np.dot(X, w))    "
   ]
  },
  {
   "cell_type": "code",
   "execution_count": null,
   "id": "0eba6bf0",
   "metadata": {},
   "outputs": [],
   "source": []
  },
  {
   "cell_type": "code",
   "execution_count": 10,
   "id": "8445a318",
   "metadata": {},
   "outputs": [
    {
     "data": {
      "text/plain": [
       "array([0.73436208, 0.72990862, 0.6936583 , 0.7425596 , 0.70505099,\n",
       "       0.78541026, 0.59817028, 0.33308152, 0.7354681 , 0.69524573])"
      ]
     },
     "execution_count": 10,
     "metadata": {},
     "output_type": "execute_result"
    }
   ],
   "source": [
    "calc_pred_proba(X_st, w)"
   ]
  },
  {
   "cell_type": "markdown",
   "id": "e04130d2",
   "metadata": {},
   "source": [
    "#### 4. Создайте функцию `calc_pred`, возвращающую предсказанные классы (0 или 1). На вход функции подаются значения признаков Х и веса, которые уже посчитаны функцией `eval_LR_model`, а также порог вероятности."
   ]
  },
  {
   "cell_type": "code",
   "execution_count": 11,
   "id": "952599fc",
   "metadata": {},
   "outputs": [],
   "source": [
    "def calc_pred(X, w, treshold=.5):\n",
    "    p = calc_pred_proba(X, w)\n",
    "    y_pred = np.where(p >= treshold, 1, 0)\n",
    "    return y_pred"
   ]
  },
  {
   "cell_type": "code",
   "execution_count": 12,
   "id": "ac26078e",
   "metadata": {},
   "outputs": [
    {
     "data": {
      "text/plain": [
       "array([1, 1, 1, 1, 1, 1, 1, 0, 1, 1])"
      ]
     },
     "execution_count": 12,
     "metadata": {},
     "output_type": "execute_result"
    }
   ],
   "source": [
    "y_pred = calc_pred(X_st, w, treshold=.55)\n",
    "y_pred"
   ]
  },
  {
   "cell_type": "code",
   "execution_count": 13,
   "id": "60a4eade",
   "metadata": {},
   "outputs": [
    {
     "data": {
      "text/plain": [
       "array([0, 0, 1, 0, 1, 0, 1, 0, 1, 1])"
      ]
     },
     "execution_count": 13,
     "metadata": {},
     "output_type": "execute_result"
    }
   ],
   "source": [
    "y"
   ]
  },
  {
   "cell_type": "markdown",
   "id": "9c25e638",
   "metadata": {},
   "source": [
    "#### 5. (\\*) Напишите функции для расчета accuracy, матрицы ошибок, precision и recall, а также F1-score."
   ]
  },
  {
   "cell_type": "code",
   "execution_count": 14,
   "id": "0e31f507",
   "metadata": {},
   "outputs": [],
   "source": [
    "def confusion_matrix(y_pred, y):\n",
    "    tp = np.sum(((y_pred == 1) & (y == 1)) * 1)\n",
    "    tn = np.sum(((y_pred == 0) & (y == 0)) * 1)\n",
    "    fp = np.sum(((y_pred == 1) & (y == 0)) * 1)\n",
    "    fn = np.sum(((y_pred == 0) & (y == 1)) * 1)\n",
    "    matrix = np.array([\n",
    "        [tp, fn],\n",
    "        [fp, tn]\n",
    "    ])\n",
    "    return matrix"
   ]
  },
  {
   "cell_type": "code",
   "execution_count": 15,
   "id": "453c8d61",
   "metadata": {},
   "outputs": [],
   "source": [
    "def accuracy(y_pred, y):\n",
    "    return np.sum((y_pred == y) * 1)/ y.shape[0]"
   ]
  },
  {
   "cell_type": "code",
   "execution_count": 16,
   "id": "e311f1fc",
   "metadata": {},
   "outputs": [],
   "source": [
    "def precision(y_pred, y):\n",
    "    cf = confusion_matrix(y_pred, y)\n",
    "    return cf[0, 0] / (cf[0, 0] + cf[0, 1])"
   ]
  },
  {
   "cell_type": "code",
   "execution_count": 17,
   "id": "06e26705",
   "metadata": {},
   "outputs": [],
   "source": [
    "def recall(y_pred, y):\n",
    "    cf = confusion_matrix(y_pred, y)\n",
    "    return cf[0, 0] / (cf[0, 0] + cf[1, 0])"
   ]
  },
  {
   "cell_type": "code",
   "execution_count": 18,
   "id": "1ad01da0",
   "metadata": {},
   "outputs": [],
   "source": [
    "def f1_score(y_pred, y):\n",
    "    return (2 * precision(y_pred, y) * recall(y_pred, y)) / (precision(y_pred, y) + recall(y_pred, y))"
   ]
  },
  {
   "cell_type": "code",
   "execution_count": 19,
   "id": "96dd3d9e",
   "metadata": {},
   "outputs": [],
   "source": [
    "def show_errors(y_pred, y):\n",
    "    print(f'Accuracy  = {accuracy(y_pred, y):.3f}\\nPrecision = {precision(y_pred, y):.3f}')\n",
    "    print(f'Recall    = {recall(y_pred, y):.3f}\\nF1-score  = {f1_score(y_pred, y):.3f}')\n",
    "    print(f'\\nConfusion matrix = \\n{confusion_matrix(y_pred, y)}')"
   ]
  },
  {
   "cell_type": "code",
   "execution_count": 20,
   "id": "9c4be95e",
   "metadata": {},
   "outputs": [
    {
     "name": "stdout",
     "output_type": "stream",
     "text": [
      "Accuracy  = 0.600\n",
      "Precision = 1.000\n",
      "Recall    = 0.556\n",
      "F1-score  = 0.714\n",
      "\n",
      "Confusion matrix = \n",
      "[[5 0]\n",
      " [4 1]]\n"
     ]
    }
   ],
   "source": [
    "show_errors(y_pred, y)"
   ]
  },
  {
   "cell_type": "markdown",
   "id": "a593620e",
   "metadata": {},
   "source": [
    "Модель плохо определяет `класс 0`, причем эту проблему не получится решить изменением порога определения `класса 1`.\n",
    "Похоже, что для адекватной оценки вероятности определения `класса 1` требуется больше данных."
   ]
  },
  {
   "cell_type": "code",
   "execution_count": null,
   "id": "97094819",
   "metadata": {},
   "outputs": [],
   "source": []
  }
 ],
 "metadata": {
  "kernelspec": {
   "display_name": "Python 3 (ipykernel)",
   "language": "python",
   "name": "python3"
  },
  "language_info": {
   "codemirror_mode": {
    "name": "ipython",
    "version": 3
   },
   "file_extension": ".py",
   "mimetype": "text/x-python",
   "name": "python",
   "nbconvert_exporter": "python",
   "pygments_lexer": "ipython3",
   "version": "3.8.5"
  }
 },
 "nbformat": 4,
 "nbformat_minor": 5
}
