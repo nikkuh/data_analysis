{
 "cells": [
  {
   "cell_type": "markdown",
   "id": "86ac2e2f",
   "metadata": {},
   "source": [
    "### Домашние задания"
   ]
  },
  {
   "cell_type": "markdown",
   "id": "d3b29de2",
   "metadata": {
    "colab_type": "text",
    "id": "huXrhXQsZTMt"
   },
   "source": [
    "##### 1. Проведите небольшое исследование алгоритма градиентного спуска на данных из урока. Оцените влияние значений скорости обучения (`eta`) и количества итераций на ошибку алгоритма. Как связаны эти два гиперпараметра между собой? Подберите скорость обучения и количество итераций до совпадения ответов алгоритма с результатами МНК. Как можно ускорить процесс вычисления весов?  "
   ]
  },
  {
   "cell_type": "code",
   "execution_count": 1,
   "id": "6ac09c12",
   "metadata": {},
   "outputs": [],
   "source": [
    "import numpy as np"
   ]
  },
  {
   "cell_type": "code",
   "execution_count": 2,
   "id": "14171c99",
   "metadata": {},
   "outputs": [],
   "source": [
    "X = np.array([[1, 1, 1, 1, 1, 1, 1, 1, 1, 1],   \n",
    "              [1, 1, 2, 1, 3, 0, 5, 10, 1, 2]]).T\n",
    "\n",
    "y = [45, 55, 50, 59, 65, 35, 75, 80, 50, 60]"
   ]
  },
  {
   "cell_type": "code",
   "execution_count": 3,
   "id": "095ae142",
   "metadata": {},
   "outputs": [],
   "source": [
    "def calc_mse(y:float, y_pred:float):\n",
    "    return np.mean((y - y_pred) ** 2)"
   ]
  },
  {
   "cell_type": "code",
   "execution_count": 4,
   "id": "18fe3290",
   "metadata": {
    "colab": {
     "base_uri": "https://localhost:8080/",
     "height": 185
    },
    "colab_type": "code",
    "id": "IDB22MQKMYaJ",
    "outputId": "4c03219e-a57c-4583-f439-6699fd0619bb"
   },
   "outputs": [
    {
     "name": "stdout",
     "output_type": "stream",
     "text": [
      "0 [3.204 7.3  ] 3173.15\n",
      "100 [41.95214292  4.88570667] 61.568780958579865\n",
      "200 [46.58653419  4.02993086] 46.171203616546116\n",
      "300 [47.15320146  3.92529142] 45.94099410777859\n",
      "400 [47.22249035  3.9124967 ] 45.937552240480294\n",
      "500 [47.2309626   3.91093223] 45.93750078104854\n"
     ]
    }
   ],
   "source": [
    "n = X.shape[0]\n",
    "eta = 2e-2\n",
    "iterations = 501\n",
    "w = np.array([1, 0.5])\n",
    "\n",
    "for i in range(iterations):\n",
    "    y_pred = np.dot(X, w)\n",
    "    err = calc_mse(y, y_pred)\n",
    "    for j in range(w.shape[0]):\n",
    "        w[j] -= eta * (1/n * 2 * np.sum(X[:,j] * (y_pred - y)))\n",
    "    if i % 100 == 0:\n",
    "        print(i, w, err) # МНК: array([47.23214286,  3.91071429]) 45.937499999999986"
   ]
  },
  {
   "cell_type": "markdown",
   "id": "f37c621d",
   "metadata": {},
   "source": [
    "С увеличением параметра $\\eta$ ускоряется процесс поиска $\\vec{w}$.\n",
    "Однако, чрезмерное увеличение $\\eta$ приведёт к снижению точности алгоритма.\n",
    "\n",
    "Для вычисления $\\vec{w}$ с наименьшей погрешностью нужно использовать низкое значение $\\eta$ и большое количество итераций, но такой поиск займет больше времени.\n",
    "\n",
    "При увеличении количества итераций разумным было бы уменьшать скорость обучения, а с уменьшением количества итераций - увеличивать скорость обучения. "
   ]
  },
  {
   "cell_type": "code",
   "execution_count": null,
   "id": "c6ffcdef",
   "metadata": {},
   "outputs": [],
   "source": []
  },
  {
   "cell_type": "markdown",
   "id": "dc973c67",
   "metadata": {
    "colab_type": "text",
    "id": "5Qu1o4JhZYwI"
   },
   "source": [
    "##### *2. В этом коде мы избавляемся от итераций по весам, но тут есть ошибка, исправьте ее:"
   ]
  },
  {
   "cell_type": "code",
   "execution_count": 5,
   "id": "44af2862",
   "metadata": {
    "colab": {
     "base_uri": "https://localhost:8080/",
     "height": 185
    },
    "colab_type": "code",
    "id": "WZZzDCQLY4pA",
    "outputId": "28f58ade-72f2-4381-809d-2417752d56e4"
   },
   "outputs": [
    {
     "name": "stdout",
     "output_type": "stream",
     "text": [
      "0 [10.004  9.504] 3173.15\n",
      "100 [11.82211538 11.32211538] 737.091826923077\n",
      "200 [11.82211538 11.32211538] 737.091826923077\n",
      "300 [11.82211538 11.32211538] 737.091826923077\n",
      "400 [11.82211538 11.32211538] 737.091826923077\n",
      "500 [11.82211538 11.32211538] 737.091826923077\n"
     ]
    }
   ],
   "source": [
    "w = np.array([1, 0.5])\n",
    "\n",
    "for i in range(iterations):\n",
    "    y_pred = np.dot(X, w)\n",
    "    err = calc_mse(y, y_pred)\n",
    "    w -= (eta * (1/n * 2 * np.sum(X.T * (y_pred - y)))) # ошибка!\n",
    "    if i % 100 == 0:\n",
    "        print(i, w, err) # [47.23214286  3.91071429] 45.937499999999986"
   ]
  },
  {
   "cell_type": "markdown",
   "id": "2d662b7b",
   "metadata": {},
   "source": [
    "Не понял как исправить код =("
   ]
  },
  {
   "cell_type": "markdown",
   "id": "096401e0",
   "metadata": {
    "colab": {},
    "colab_type": "code",
    "id": "kGLyytFgHdco"
   },
   "source": [
    "##### *3. Вместо того, чтобы задавать количество итераций, задайте условие остановки алгоритма - когда ошибка за итерацию начинает изменяться ниже определенного порога. \n",
    "\n",
    "Сколько нужно сделать итераций, если установить допустимое отклонение mse за одну итерацию в размере diff=1e-6, а значение eta=1e-2?"
   ]
  },
  {
   "cell_type": "code",
   "execution_count": 6,
   "id": "89557468",
   "metadata": {},
   "outputs": [
    {
     "name": "stdout",
     "output_type": "stream",
     "text": [
      "810\n"
     ]
    }
   ],
   "source": [
    "n = X.shape[0]\n",
    "w = np.array([1, 0.5])\n",
    "diff = 1e-6\n",
    "eta = 1e-2\n",
    "\n",
    "diff_list = []\n",
    "while True:\n",
    "    y_pred = np.dot(X, w)\n",
    "    diff_list.append(calc_mse(y, y_pred))\n",
    "    for j in range(w.shape[0]):\n",
    "        w[j] -= eta * (1/n * 2 * np.sum(X[:,j] * (y_pred - y)))\n",
    "    try: \n",
    "        if np.abs(diff_list[-1] - diff_list[-2]) < diff:\n",
    "            print(len(diff_list))\n",
    "            break\n",
    "    except(IndexError):\n",
    "        pass\n"
   ]
  },
  {
   "cell_type": "markdown",
   "id": "dbe774b4",
   "metadata": {},
   "source": [
    "Потребуется 810 итераций."
   ]
  },
  {
   "cell_type": "code",
   "execution_count": null,
   "id": "057b0976",
   "metadata": {},
   "outputs": [],
   "source": []
  }
 ],
 "metadata": {
  "kernelspec": {
   "display_name": "Python 3 (ipykernel)",
   "language": "python",
   "name": "python3"
  },
  "language_info": {
   "codemirror_mode": {
    "name": "ipython",
    "version": 3
   },
   "file_extension": ".py",
   "mimetype": "text/x-python",
   "name": "python",
   "nbconvert_exporter": "python",
   "pygments_lexer": "ipython3",
   "version": "3.8.5"
  }
 },
 "nbformat": 4,
 "nbformat_minor": 5
}
